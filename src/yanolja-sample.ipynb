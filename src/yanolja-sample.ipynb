{
 "cells": [
  {
   "cell_type": "code",
   "execution_count": 5,
   "id": "dbe4446b",
   "metadata": {},
   "outputs": [],
   "source": [
    "# Dependency\n",
    "import json\n",
    "import torch\n",
    "from transformers import AutoTokenizer, AutoModelForCausalLM\n",
    "import os"
   ]
  },
  {
   "cell_type": "code",
   "execution_count": 10,
   "id": "083c6359",
   "metadata": {},
   "outputs": [
    {
     "name": "stderr",
     "output_type": "stream",
     "text": [
      "Loading checkpoint shards: 100%|██████████| 9/9 [00:09<00:00,  1.02s/it]\n"
     ]
    }
   ],
   "source": [
    "# Model info\n",
    "model_id = \"~/wlm2/YanoljaNEXT-Rosetta-20B\"\n",
    "model_id = os.path.expanduser(model_id)\n",
    "model = AutoModelForCausalLM.from_pretrained(\n",
    "    model_id,\n",
    "    dtype=torch.bfloat16,\n",
    "    device_map=\"auto\",\n",
    "    max_memory={0: \"45GB\"},\n",
    ")\n",
    "# model = AutoModelForCausalLM.from_pretrained(model_id)\n",
    "tokenizer = AutoTokenizer.from_pretrained(model_id)"
   ]
  },
  {
   "cell_type": "code",
   "execution_count": 7,
   "id": "b0db1678",
   "metadata": {},
   "outputs": [],
   "source": [
    "target_language = \"Korean\"\n",
    "context = {\n",
    "  \"context\": \"Simple introduction about a tech company.\",\n",
    "  \"tone\": \"Informative and helpful\",\n",
    "  \"glossary\": {\n",
    "    \"Yanolja NEXT\": \"야놀자넥스트\",\n",
    "    \"travel industry\": \"여행 산업\",\n",
    "  }\n",
    "}\n",
    "\n",
    "system = [f\"Translate the user's text to {target_language}.\"]\n",
    "for key, value in context.items():\n",
    "  key_pascal = key.capitalize()\n",
    "  if isinstance(value, dict):\n",
    "    system.append(f\"{key_pascal}:\")\n",
    "    for f, t in value.items():\n",
    "      system.append(f\"- {f} -> {t}\")\n",
    "  else:\n",
    "    system.append(f\"{key_pascal}: {value}\")\n",
    "\n",
    "system.append(\"Provide the final translation immediately without any other text.\")\n"
   ]
  },
  {
   "cell_type": "code",
   "execution_count": 8,
   "id": "8030be7f",
   "metadata": {},
   "outputs": [
    {
     "name": "stdout",
     "output_type": "stream",
     "text": [
      "<|start|>instruction<|message|>Translate the user's text to Korean.\n",
      "Context: Simple introduction about a tech company.\n",
      "Tone: Informative and helpful\n",
      "Glossary:\n",
      "- Yanolja NEXT -> 야놀자넥스트\n",
      "- travel industry -> 여행 산업\n",
      "Provide the final translation immediately without any other text.<|end|><|start|>source<|message|>{\"company_name\": \"Yanolja NEXT\", \"description\": \"Yanolja NEXT is a company that provides cutting-edge technology for the global travel industry.\"}<|end|><|start|>translation<|channel|>final<|message|>\n"
     ]
    }
   ],
   "source": [
    "source = {\n",
    "  \"company_name\": \"Yanolja NEXT\",\n",
    "  \"description\": \"Yanolja NEXT is a company that provides cutting-edge \"\n",
    "                 \"technology for the global travel industry.\",\n",
    "}\n",
    "\n",
    "messages = [\n",
    "    {\"role\": \"system\", \"content\": \"\\n\".join(system)},\n",
    "    {\"role\": \"user\", \"content\": json.dumps(source, ensure_ascii=False)},\n",
    "]\n",
    "\n",
    "prompt = tokenizer.apply_chat_template(messages, tokenize=False, add_generation_prompt=True)\n",
    "print(prompt)\n",
    "# <|start|>instruction<|message|>Translate the user's text to Korean.\n",
    "# Context: Simple introduction about a tech company.\n",
    "# Tone: Informative and helpful\n",
    "# Glossary:\n",
    "# - Yanolja NEXT -> 야놀자넥스트\n",
    "# - travel industry -> 여행 산업\n",
    "# Provide the final translation immediately without any other text.<|end|><|start|>source<|message|>{\"company_name\": \"Yanolja NEXT\", \"description\": \"Yanolja NEXT is a company that provides global cutting-edge technology for the travel industry.\"}<|end|><|start|>translation<|channel|>final<|message|>"
   ]
  },
  {
   "cell_type": "code",
   "execution_count": 11,
   "id": "70694c97",
   "metadata": {},
   "outputs": [
    {
     "name": "stdout",
     "output_type": "stream",
     "text": [
      "{\n",
      "  \"company_name\": \"야놀자넥스트\",\n",
      "  \"description\": \"야놀자넥스트는 글로벌 여행 산업을 위한 최첨단 기술을 제공하는 기업입니다.\"\n",
      "}\n"
     ]
    }
   ],
   "source": [
    "inputs = tokenizer(prompt, return_tensors=\"pt\").to(\"cuda\")\n",
    "input_length = inputs[\"input_ids\"].shape[1]\n",
    "\n",
    "with torch.inference_mode():\n",
    "    outputs = model.generate(\n",
    "        **inputs,\n",
    "        max_new_tokens=64,\n",
    "    )\n",
    "\n",
    "generated_tokens = outputs[0][input_length:]\n",
    "translation = tokenizer.decode(generated_tokens, skip_special_tokens=True)\n",
    "\n",
    "print(json.dumps(json.loads(translation), indent=2, ensure_ascii=False))\n",
    "\n",
    "# {\n",
    "#   \"company_name\": \"야놀자넥스트\",\n",
    "#   \"description\": \"야놀자넥스트는 글로벌 여행 산업에 최첨단 기술을 제공하는 기업입니다.\"\n",
    "# }"
   ]
  }
 ],
 "metadata": {
  "kernelspec": {
   "display_name": "incubator",
   "language": "python",
   "name": "python3"
  },
  "language_info": {
   "codemirror_mode": {
    "name": "ipython",
    "version": 3
   },
   "file_extension": ".py",
   "mimetype": "text/x-python",
   "name": "python",
   "nbconvert_exporter": "python",
   "pygments_lexer": "ipython3",
   "version": "3.10.18"
  }
 },
 "nbformat": 4,
 "nbformat_minor": 5
}
